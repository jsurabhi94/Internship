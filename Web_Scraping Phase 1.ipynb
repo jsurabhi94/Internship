{
 "cells": [
  {
   "cell_type": "code",
   "execution_count": 1,
   "metadata": {},
   "outputs": [],
   "source": [
    "import selenium\n",
    "from selenium import webdriver\n",
    "from selenium.webdriver.common.by import By\n",
    "from selenium.webdriver.common.keys import Keys\n",
    "from selenium.webdriver.support.ui import WebDriverWait\n",
    "from selenium.webdriver.support import expected_conditions as EC\n",
    "from selenium.common.exceptions import NoSuchElementException, StaleElementReferenceException\n",
    "import time\n",
    "import warnings\n",
    "warnings.filterwarnings('ignore')\n",
    "import re\n"
   ]
  },
  {
   "cell_type": "code",
   "execution_count": 2,
   "metadata": {},
   "outputs": [],
   "source": [
    "# connecting to the driver\n",
    "driver = webdriver.Chrome(r\"C:\\Users\\LENOVO\\Downloads\\chromedriver.exe\")"
   ]
  },
  {
   "cell_type": "code",
   "execution_count": 3,
   "metadata": {},
   "outputs": [],
   "source": [
    "# opening the website\n",
    "website = \"https://www.booking.com/index.en-gb.html?aid=397646&label=yho748jc-1DCAEoggI46AdIM1gDaGyIAQGYAQm4ARfIAQzYAQPoAQGIAgGoAgO4Ap3Y96YGwAIB0gIkY2NlMDIyZmItZDdlZi00MWVkLWE5YzUtNmIzNmE1NWI\"\n",
    "driver.get(website)\n",
    "time.sleep(5)"
   ]
  },
  {
   "cell_type": "code",
   "execution_count": 4,
   "metadata": {},
   "outputs": [],
   "source": [
    "# XPath for the close button of the pop-up\n",
    "try:\n",
    "    close_button = driver.find_element(By.XPATH, '//div[@class=\"ffd93a9ecb dc19f70f85 eb67815534 e91f709929\"]/div')\n",
    "    close_button.click()\n",
    "except (NoSuchElementException, ElementClickInterceptedException):\n",
    "    # Handle the case when the close button is not found or cannot be clicked\n",
    "    print(\"Failed to close the pop-up\")"
   ]
  },
  {
   "cell_type": "code",
   "execution_count": 5,
   "metadata": {},
   "outputs": [],
   "source": [
    "#Scroll to the bottom of the page\n",
    "driver.execute_script(\"window.scrollTo(0, document.body.scrollHeight);\")"
   ]
  },
  {
   "cell_type": "code",
   "execution_count": 6,
   "metadata": {},
   "outputs": [],
   "source": [
    "# clicking the cities tab\n",
    "driver.find_element(By.XPATH, '//div[@id=\"footer_links\"]/div[1]/ul/li[3]/a').click()\n",
    "time.sleep(10)"
   ]
  },
  {
   "cell_type": "code",
   "execution_count": 7,
   "metadata": {},
   "outputs": [],
   "source": [
    "# Click to close the pop-up\n",
    "driver.find_element(By.XPATH, '//button[@class=\"bui-popover__close\"]').click()"
   ]
  },
  {
   "cell_type": "markdown",
   "metadata": {},
   "source": [
    "We have to scrape data for the following cities--\n",
    "1 Dubai, United Arab Emirates\n",
    "2 London, United Kingdom\n",
    "3 Kuala Lumpur, Malaysia\n",
    "4 Manchester\n",
    "5 New Delhi\n",
    "6 Birmingham\n",
    "7 Berlin\n",
    "8 Sydney\n",
    "9 Melbourne\n",
    "10  Paris\n",
    "11 Tokyo\n",
    "12 Toronto"
   ]
  },
  {
   "cell_type": "code",
   "execution_count": 8,
   "metadata": {},
   "outputs": [],
   "source": [
    "# Define the list of city names you're interested in\n",
    "cities_of_interest = [\"Dubai\", \"London\", \"Kuala Lumpur\",\"Manchester\", \"New Delhi\", \"Birmingham\", \"Berlin\",\n",
    "                      \"Sydney\",\"Melbourne\",\"Paris\", \"Tokyo\", \"Toronto\"]\n",
    "\n",
    "# Find all the city name elements\n",
    "name_elements = driver.find_elements(By.XPATH, '//div[@class=\"block_header\"]/h2/a')\n",
    "\n",
    "# Initialize a list to store the city names\n",
    "name = []\n",
    "\n",
    "for element in name_elements:\n",
    "    city_name = element.text\n",
    "    # Manipulate the text to extract the city name correctly\n",
    "    city_name = city_name.strip('Hotels in ').split(',')[0]\n",
    "    name.append(city_name)"
   ]
  },
  {
   "cell_type": "code",
   "execution_count": 9,
   "metadata": {},
   "outputs": [],
   "source": [
    "# finding the url for cities_of_interest\n",
    "\n",
    "# Initialize a list to store city URLs\n",
    "cities_url = []\n",
    "\n",
    "# Find the URLs for cities of interest\n",
    "for city_name, city_url in zip(name, driver.find_elements(By.XPATH, '//div[@class=\"block_header\"]/h2/a')):\n",
    "    if city_name in cities_of_interest:\n",
    "        cities_url.append(city_url.get_attribute('href'))"
   ]
  },
  {
   "cell_type": "code",
   "execution_count": 10,
   "metadata": {},
   "outputs": [
    {
     "data": {
      "text/plain": [
       "['https://www.booking.com/city/ae/dubai.en-gb.html?aid=397646&label=yho748jc-1FmAEJ2AEB-AENqAID2AIE&sid=4eb728194074152dfcfa955dcb805766&inac=0&',\n",
       " 'https://www.booking.com/city/gb/london.en-gb.html?aid=397646&label=yho748jc-1FmAEJ2AEB-AENqAID2AIE&sid=4eb728194074152dfcfa955dcb805766&inac=0&',\n",
       " 'https://www.booking.com/city/au/sydney.en-gb.html?aid=397646&label=yho748jc-1FmAEJ2AEB-AENqAID2AIE&sid=4eb728194074152dfcfa955dcb805766&inac=0&',\n",
       " 'https://www.booking.com/city/au/melbourne.en-gb.html?aid=397646&label=yho748jc-1FmAEJ2AEB-AENqAID2AIE&sid=4eb728194074152dfcfa955dcb805766&inac=0&',\n",
       " 'https://www.booking.com/city/fr/paris.en-gb.html?aid=397646&label=yho748jc-1FmAEJ2AEB-AENqAID2AIE&sid=4eb728194074152dfcfa955dcb805766&inac=0&',\n",
       " 'https://www.booking.com/city/de/berlin.en-gb.html?aid=397646&label=yho748jc-1FmAEJ2AEB-AENqAID2AIE&sid=4eb728194074152dfcfa955dcb805766&inac=0&',\n",
       " 'https://www.booking.com/city/gb/manchester.en-gb.html?aid=397646&label=yho748jc-1FmAEJ2AEB-AENqAID2AIE&sid=4eb728194074152dfcfa955dcb805766&inac=0&',\n",
       " 'https://www.booking.com/city/my/kuala-lumpur.en-gb.html?aid=397646&label=yho748jc-1FmAEJ2AEB-AENqAID2AIE&sid=4eb728194074152dfcfa955dcb805766&inac=0&',\n",
       " 'https://www.booking.com/city/ca/toronto.en-gb.html?aid=397646&label=yho748jc-1FmAEJ2AEB-AENqAID2AIE&sid=4eb728194074152dfcfa955dcb805766&inac=0&',\n",
       " 'https://www.booking.com/city/jp/tokyo.en-gb.html?aid=397646&label=yho748jc-1FmAEJ2AEB-AENqAID2AIE&sid=4eb728194074152dfcfa955dcb805766&inac=0&',\n",
       " 'https://www.booking.com/city/gb/birmingham.en-gb.html?aid=397646&label=yho748jc-1FmAEJ2AEB-AENqAID2AIE&sid=4eb728194074152dfcfa955dcb805766&inac=0&',\n",
       " 'https://www.booking.com/city/in/new-delhi.en-gb.html?aid=397646&label=yho748jc-1FmAEJ2AEB-AENqAID2AIE&sid=4eb728194074152dfcfa955dcb805766&inac=0&']"
      ]
     },
     "execution_count": 10,
     "metadata": {},
     "output_type": "execute_result"
    }
   ],
   "source": [
    "cities_url = cities_url[:12]\n",
    "cities_url"
   ]
  },
  {
   "cell_type": "code",
   "execution_count": 18,
   "metadata": {},
   "outputs": [],
   "source": [
    "# creating empty lists for data\n",
    "\n",
    "Hotel_name = []\n",
    "City = []\n",
    "Location = []\n",
    "Reviews = []\n",
    "User_rating = []\n",
    "Star_rating = []\n",
    "Review_score = []\n",
    "Free_wifi = []\n",
    "Family_rooms = []\n",
    "NonSmoking_rooms = []\n",
    "Restaurent = []\n",
    "Bar = []\n",
    "Heating = []\n",
    "Lift = []\n",
    "Breakfast_Cuisine1 = []\n",
    "Breakfast_Cuisine2 = []\n",
    "Breakfast_Cuisine3 = []\n",
    "Room_type = []\n",
    "Single_bed = []\n",
    "Double_bed = []\n",
    "Prices = []"
   ]
  },
  {
   "cell_type": "code",
   "execution_count": 12,
   "metadata": {},
   "outputs": [],
   "source": [
    "all_hotel_urls = []\n",
    "for url in cities_url:\n",
    "    driver.get(url)\n",
    "    \n",
    "    # Wait for the page to load successfully\n",
    "    WebDriverWait(driver, 10).until(EC.presence_of_element_located((By.TAG_NAME, \"body\")))\n",
    "        \n",
    "    # Click to load hotel details\n",
    "    driver.find_element(By.XPATH, '//div[@class=\"lp-bui-section bui-spacer--largest x2\"]').click()\n",
    "    \n",
    "    # Loop through multiple pages (up to 40 pages)\n",
    "    for page in range(40):\n",
    "        try:\n",
    "            url_elements = driver.find_elements(By.XPATH, '//div[@class=\"d6767e681c\"]/h3/a')\n",
    "            for element in url_elements:\n",
    "                hotel = element.get_attribute('href')\n",
    "                all_hotel_urls.append(hotel)\n",
    "        \n",
    "            try:\n",
    "                next_button = driver.find_element(By.XPATH, '//div[@class=\"ef2dbaeb17\"]/div[3]/button')\n",
    "                next_button.click()\n",
    "            except NoSuchElementException:\n",
    "                # If the \"Next\" button is not found, break out of the loop\n",
    "                break\n",
    "        except StaleElementReferenceException:\n",
    "            # Handle StaleElementReferenceException by re-locating the element\n",
    "            continue"
   ]
  },
  {
   "cell_type": "code",
   "execution_count": 13,
   "metadata": {},
   "outputs": [
    {
     "name": "stdout",
     "output_type": "stream",
     "text": [
      "11401\n"
     ]
    }
   ],
   "source": [
    "print(len(all_hotel_urls))"
   ]
  },
  {
   "cell_type": "code",
   "execution_count": 19,
   "metadata": {},
   "outputs": [
    {
     "ename": "WebDriverException",
     "evalue": "Message: unknown error: net::ERR_INTERNET_DISCONNECTED\n  (Session info: chrome=109.0.5414.120)\nStacktrace:\nBacktrace:\n\t(No symbol) [0x00E36643]\n\t(No symbol) [0x00DCBE21]\n\t(No symbol) [0x00CCDA9D]\n\t(No symbol) [0x00CC9E22]\n\t(No symbol) [0x00CBFCFD]\n\t(No symbol) [0x00CC1101]\n\t(No symbol) [0x00CBFFDD]\n\t(No symbol) [0x00CBF3BC]\n\t(No symbol) [0x00CBF2D8]\n\t(No symbol) [0x00CBDC68]\n\t(No symbol) [0x00CBE512]\n\t(No symbol) [0x00CCF75B]\n\t(No symbol) [0x00D37727]\n\t(No symbol) [0x00D1FD7C]\n\t(No symbol) [0x00D36B09]\n\t(No symbol) [0x00D1FB76]\n\t(No symbol) [0x00CF49C1]\n\t(No symbol) [0x00CF5E5D]\n\tGetHandleVerifier [0x010AA142+2497106]\n\tGetHandleVerifier [0x010D85D3+2686691]\n\tGetHandleVerifier [0x010DBB9C+2700460]\n\tGetHandleVerifier [0x00EE3B10+635936]\n\t(No symbol) [0x00DD4A1F]\n\t(No symbol) [0x00DDA418]\n\t(No symbol) [0x00DDA505]\n\t(No symbol) [0x00DE508B]\n\tBaseThreadInitThunk [0x7658344D+18]\n\tRtlInitializeExceptionChain [0x77719802+99]\n\tRtlInitializeExceptionChain [0x777197D5+54]\n",
     "output_type": "error",
     "traceback": [
      "\u001b[1;31m---------------------------------------------------------------------------\u001b[0m",
      "\u001b[1;31mWebDriverException\u001b[0m                        Traceback (most recent call last)",
      "\u001b[1;32m<ipython-input-19-b6e0cf5243ce>\u001b[0m in \u001b[0;36m<module>\u001b[1;34m\u001b[0m\n\u001b[0;32m      1\u001b[0m \u001b[1;32mfor\u001b[0m \u001b[0mi\u001b[0m \u001b[1;32min\u001b[0m \u001b[0mall_hotel_urls\u001b[0m\u001b[1;33m:\u001b[0m\u001b[1;33m\u001b[0m\u001b[1;33m\u001b[0m\u001b[0m\n\u001b[1;32m----> 2\u001b[1;33m     \u001b[0mdriver\u001b[0m\u001b[1;33m.\u001b[0m\u001b[0mget\u001b[0m\u001b[1;33m(\u001b[0m\u001b[0mi\u001b[0m\u001b[1;33m)\u001b[0m\u001b[1;33m\u001b[0m\u001b[1;33m\u001b[0m\u001b[0m\n\u001b[0m\u001b[0;32m      3\u001b[0m     \u001b[0mtime\u001b[0m\u001b[1;33m.\u001b[0m\u001b[0msleep\u001b[0m\u001b[1;33m(\u001b[0m\u001b[1;36m5\u001b[0m\u001b[1;33m)\u001b[0m\u001b[1;33m\u001b[0m\u001b[1;33m\u001b[0m\u001b[0m\n\u001b[0;32m      4\u001b[0m     \u001b[1;32mtry\u001b[0m\u001b[1;33m:\u001b[0m\u001b[1;33m\u001b[0m\u001b[1;33m\u001b[0m\u001b[0m\n\u001b[0;32m      5\u001b[0m         \u001b[0mname\u001b[0m \u001b[1;33m=\u001b[0m \u001b[0mdriver\u001b[0m\u001b[1;33m.\u001b[0m\u001b[0mfind_element\u001b[0m\u001b[1;33m(\u001b[0m\u001b[0mBy\u001b[0m\u001b[1;33m.\u001b[0m\u001b[0mXPATH\u001b[0m\u001b[1;33m,\u001b[0m\u001b[1;34m'//div[@id=\"hp_hotel_name\"]/div/h2'\u001b[0m\u001b[1;33m)\u001b[0m\u001b[1;33m\u001b[0m\u001b[1;33m\u001b[0m\u001b[0m\n",
      "\u001b[1;32m~\\Anaconda3\\lib\\site-packages\\selenium\\webdriver\\remote\\webdriver.py\u001b[0m in \u001b[0;36mget\u001b[1;34m(self, url)\u001b[0m\n\u001b[0;32m    447\u001b[0m     \u001b[1;32mdef\u001b[0m \u001b[0mget\u001b[0m\u001b[1;33m(\u001b[0m\u001b[0mself\u001b[0m\u001b[1;33m,\u001b[0m \u001b[0murl\u001b[0m\u001b[1;33m:\u001b[0m \u001b[0mstr\u001b[0m\u001b[1;33m)\u001b[0m \u001b[1;33m->\u001b[0m \u001b[1;32mNone\u001b[0m\u001b[1;33m:\u001b[0m\u001b[1;33m\u001b[0m\u001b[1;33m\u001b[0m\u001b[0m\n\u001b[0;32m    448\u001b[0m         \u001b[1;34m\"\"\"Loads a web page in the current browser session.\"\"\"\u001b[0m\u001b[1;33m\u001b[0m\u001b[1;33m\u001b[0m\u001b[0m\n\u001b[1;32m--> 449\u001b[1;33m         \u001b[0mself\u001b[0m\u001b[1;33m.\u001b[0m\u001b[0mexecute\u001b[0m\u001b[1;33m(\u001b[0m\u001b[0mCommand\u001b[0m\u001b[1;33m.\u001b[0m\u001b[0mGET\u001b[0m\u001b[1;33m,\u001b[0m \u001b[1;33m{\u001b[0m\u001b[1;34m\"url\"\u001b[0m\u001b[1;33m:\u001b[0m \u001b[0murl\u001b[0m\u001b[1;33m}\u001b[0m\u001b[1;33m)\u001b[0m\u001b[1;33m\u001b[0m\u001b[1;33m\u001b[0m\u001b[0m\n\u001b[0m\u001b[0;32m    450\u001b[0m \u001b[1;33m\u001b[0m\u001b[0m\n\u001b[0;32m    451\u001b[0m     \u001b[1;33m@\u001b[0m\u001b[0mproperty\u001b[0m\u001b[1;33m\u001b[0m\u001b[1;33m\u001b[0m\u001b[0m\n",
      "\u001b[1;32m~\\Anaconda3\\lib\\site-packages\\selenium\\webdriver\\remote\\webdriver.py\u001b[0m in \u001b[0;36mexecute\u001b[1;34m(self, driver_command, params)\u001b[0m\n\u001b[0;32m    438\u001b[0m         \u001b[0mresponse\u001b[0m \u001b[1;33m=\u001b[0m \u001b[0mself\u001b[0m\u001b[1;33m.\u001b[0m\u001b[0mcommand_executor\u001b[0m\u001b[1;33m.\u001b[0m\u001b[0mexecute\u001b[0m\u001b[1;33m(\u001b[0m\u001b[0mdriver_command\u001b[0m\u001b[1;33m,\u001b[0m \u001b[0mparams\u001b[0m\u001b[1;33m)\u001b[0m\u001b[1;33m\u001b[0m\u001b[1;33m\u001b[0m\u001b[0m\n\u001b[0;32m    439\u001b[0m         \u001b[1;32mif\u001b[0m \u001b[0mresponse\u001b[0m\u001b[1;33m:\u001b[0m\u001b[1;33m\u001b[0m\u001b[1;33m\u001b[0m\u001b[0m\n\u001b[1;32m--> 440\u001b[1;33m             \u001b[0mself\u001b[0m\u001b[1;33m.\u001b[0m\u001b[0merror_handler\u001b[0m\u001b[1;33m.\u001b[0m\u001b[0mcheck_response\u001b[0m\u001b[1;33m(\u001b[0m\u001b[0mresponse\u001b[0m\u001b[1;33m)\u001b[0m\u001b[1;33m\u001b[0m\u001b[1;33m\u001b[0m\u001b[0m\n\u001b[0m\u001b[0;32m    441\u001b[0m             \u001b[0mresponse\u001b[0m\u001b[1;33m[\u001b[0m\u001b[1;34m\"value\"\u001b[0m\u001b[1;33m]\u001b[0m \u001b[1;33m=\u001b[0m \u001b[0mself\u001b[0m\u001b[1;33m.\u001b[0m\u001b[0m_unwrap_value\u001b[0m\u001b[1;33m(\u001b[0m\u001b[0mresponse\u001b[0m\u001b[1;33m.\u001b[0m\u001b[0mget\u001b[0m\u001b[1;33m(\u001b[0m\u001b[1;34m\"value\"\u001b[0m\u001b[1;33m,\u001b[0m \u001b[1;32mNone\u001b[0m\u001b[1;33m)\u001b[0m\u001b[1;33m)\u001b[0m\u001b[1;33m\u001b[0m\u001b[1;33m\u001b[0m\u001b[0m\n\u001b[0;32m    442\u001b[0m             \u001b[1;32mreturn\u001b[0m \u001b[0mresponse\u001b[0m\u001b[1;33m\u001b[0m\u001b[1;33m\u001b[0m\u001b[0m\n",
      "\u001b[1;32m~\\Anaconda3\\lib\\site-packages\\selenium\\webdriver\\remote\\errorhandler.py\u001b[0m in \u001b[0;36mcheck_response\u001b[1;34m(self, response)\u001b[0m\n\u001b[0;32m    243\u001b[0m                 \u001b[0malert_text\u001b[0m \u001b[1;33m=\u001b[0m \u001b[0mvalue\u001b[0m\u001b[1;33m[\u001b[0m\u001b[1;34m\"alert\"\u001b[0m\u001b[1;33m]\u001b[0m\u001b[1;33m.\u001b[0m\u001b[0mget\u001b[0m\u001b[1;33m(\u001b[0m\u001b[1;34m\"text\"\u001b[0m\u001b[1;33m)\u001b[0m\u001b[1;33m\u001b[0m\u001b[1;33m\u001b[0m\u001b[0m\n\u001b[0;32m    244\u001b[0m             \u001b[1;32mraise\u001b[0m \u001b[0mexception_class\u001b[0m\u001b[1;33m(\u001b[0m\u001b[0mmessage\u001b[0m\u001b[1;33m,\u001b[0m \u001b[0mscreen\u001b[0m\u001b[1;33m,\u001b[0m \u001b[0mstacktrace\u001b[0m\u001b[1;33m,\u001b[0m \u001b[0malert_text\u001b[0m\u001b[1;33m)\u001b[0m  \u001b[1;31m# type: ignore[call-arg]  # mypy is not smart enough here\u001b[0m\u001b[1;33m\u001b[0m\u001b[1;33m\u001b[0m\u001b[0m\n\u001b[1;32m--> 245\u001b[1;33m         \u001b[1;32mraise\u001b[0m \u001b[0mexception_class\u001b[0m\u001b[1;33m(\u001b[0m\u001b[0mmessage\u001b[0m\u001b[1;33m,\u001b[0m \u001b[0mscreen\u001b[0m\u001b[1;33m,\u001b[0m \u001b[0mstacktrace\u001b[0m\u001b[1;33m)\u001b[0m\u001b[1;33m\u001b[0m\u001b[1;33m\u001b[0m\u001b[0m\n\u001b[0m",
      "\u001b[1;31mWebDriverException\u001b[0m: Message: unknown error: net::ERR_INTERNET_DISCONNECTED\n  (Session info: chrome=109.0.5414.120)\nStacktrace:\nBacktrace:\n\t(No symbol) [0x00E36643]\n\t(No symbol) [0x00DCBE21]\n\t(No symbol) [0x00CCDA9D]\n\t(No symbol) [0x00CC9E22]\n\t(No symbol) [0x00CBFCFD]\n\t(No symbol) [0x00CC1101]\n\t(No symbol) [0x00CBFFDD]\n\t(No symbol) [0x00CBF3BC]\n\t(No symbol) [0x00CBF2D8]\n\t(No symbol) [0x00CBDC68]\n\t(No symbol) [0x00CBE512]\n\t(No symbol) [0x00CCF75B]\n\t(No symbol) [0x00D37727]\n\t(No symbol) [0x00D1FD7C]\n\t(No symbol) [0x00D36B09]\n\t(No symbol) [0x00D1FB76]\n\t(No symbol) [0x00CF49C1]\n\t(No symbol) [0x00CF5E5D]\n\tGetHandleVerifier [0x010AA142+2497106]\n\tGetHandleVerifier [0x010D85D3+2686691]\n\tGetHandleVerifier [0x010DBB9C+2700460]\n\tGetHandleVerifier [0x00EE3B10+635936]\n\t(No symbol) [0x00DD4A1F]\n\t(No symbol) [0x00DDA418]\n\t(No symbol) [0x00DDA505]\n\t(No symbol) [0x00DE508B]\n\tBaseThreadInitThunk [0x7658344D+18]\n\tRtlInitializeExceptionChain [0x77719802+99]\n\tRtlInitializeExceptionChain [0x777197D5+54]\n"
     ]
    }
   ],
   "source": [
    "for i in all_hotel_urls:\n",
    "    driver.get(i)\n",
    "    time.sleep(5)\n",
    "    try:\n",
    "        name = driver.find_element(By.XPATH,'//div[@id=\"hp_hotel_name\"]/div/h2')\n",
    "        Hotel_name.append(name.text)\n",
    "    except NoSuchElementException:\n",
    "        Hotel_name.append(None)\n",
    "    \n",
    "    try:\n",
    "        city = driver.find_element(By.XPATH, '//p[@class=\"address address_clean\"]/span[1]')\n",
    "        city_text = city.text\n",
    "        city_parts = city_text.split(',')\n",
    "        if len(city_parts) >= 3:  # Ensure there are at least three parts (city, state, country)\n",
    "            City.append(\", \".join(city_parts[:-2]))\n",
    "        else:\n",
    "            City.append(None)\n",
    "    except NoSuchElementException:\n",
    "        City.append(None)\n",
    "        \n",
    "    try:\n",
    "        loc = driver.find_element(By.XPATH,'//p[@class=\"address address_clean\"]/span[1]')\n",
    "        Location.append(loc.text)\n",
    "    except NoSuchElementException:\n",
    "        Location.append(None)\n",
    "        \n",
    "    try:\n",
    "        rev = driver.find_element(By.XPATH,'//div[@class=\"aca0ade214 aaf30230d9 e1ffac4e41 e7d9f93f4d d79e71457a d5fd510f01 dc7f26e57f\"]/div[2]/div[2]')\n",
    "        Reviews.append(rev.text)\n",
    "    except NoSuchElementException:\n",
    "        Reviews.append(None)\n",
    "        \n",
    "    try:\n",
    "        user = driver.find_element(By.XPATH,'//div[@class=\"aca0ade214 aaf30230d9 e1ffac4e41 e7d9f93f4d d79e71457a d5fd510f01 dc7f26e57f\"]/div[2]/div')\n",
    "        User_rating.append(user.text)\n",
    "    except NoSuchElementException:\n",
    "        User_rating.append(None)\n",
    "        \n",
    "    try:\n",
    "        star = driver.find_element(By.XPATH, '//div[@class=\"a53cbfa6de bfe7b1fc60\"]')\n",
    "        star_text = star.text\n",
    "        extracted_rating = re.search(r'\\d+\\.\\d+', star_text).group(0) if re.search(r'\\d+\\.\\d+', star_text) else None\n",
    "        Star_rating.append(extracted_rating)\n",
    "    except NoSuchElementException:\n",
    "        Star_rating.append(None)\n",
    "        \n",
    "    try:\n",
    "        score = driver.find_element(By.XPATH,'//div[@class=\"aca0ade214 aaf30230d9 e1ffac4e41 e7d9f93f4d d79e71457a d5fd510f01 dc7f26e57f\"]/div[1]')\n",
    "        Review_score.append(score.text)\n",
    "    except NoSuchElementException:\n",
    "        Review_score.append(None)\n",
    "        \n",
    "    try:\n",
    "        wifi = driver.find_element(By.XPATH,'//div[@class=\"dc6c58be0b\"]/span/div/span[contains(text(), \"Free Wi-Fi\")]')\n",
    "        Free_wifi.append('Yes')\n",
    "    except NoSuchElementException:\n",
    "        Free_wifi.append('No')\n",
    "        \n",
    "    try:\n",
    "        room = driver.find_element(By.XPATH,'//div[@class=\"dc6c58be0b\"]/span/div/span[contains(text(), \"Family rooms\")]')\n",
    "        Family_rooms.append('Yes')\n",
    "    except NoSuchElementException:\n",
    "        Family_rooms.append('No')\n",
    "        \n",
    "    try:\n",
    "        smoke = driver.find_element(By.XPATH,'//div[@class=\"dc6c58be0b\"]/span/div/span[contains(text(), \"Non-smoking rooms\")]')\n",
    "        NonSmoking_rooms.append('Yes')\n",
    "    except NoSuchElementException:\n",
    "        NonSmoking_rooms.append('No')\n",
    "        \n",
    "    try:\n",
    "        res = driver.find_element(By.XPATH,'//div[@class=\"dc6c58be0b\"]/span/div/span[contains(text(), \"Restaurent\")]')\n",
    "        Restaurent.append('Yes')\n",
    "    except NoSuchElementException:\n",
    "        Restaurent.append('No')\n",
    "        \n",
    "    try:\n",
    "        bar = driver.find_element(By.XPATH,'//div[@class=\"dc6c58be0b\"]/span/div/span[contains(text(), \"Bar\")]')\n",
    "        Bar.append('Yes')\n",
    "    except NoSuchElementException:\n",
    "        Bar.append('No')\n",
    "        \n",
    "    try:\n",
    "        heat = driver.find_element(By.XPATH,'//div[@class=\"dc6c58be0b\"]/span/div/span[contains(text(), \"Heating\")]')\n",
    "        Heating.append('Yes')\n",
    "    except NoSuchElementException:\n",
    "        Heating.append('No')\n",
    "        \n",
    "    try:\n",
    "        lift = driver.find_element(By.XPATH,'//div[@class=\"dc6c58be0b\"]/span/div/span[contains(text(), \"Lift\")]')\n",
    "        Lift.append('Yes')\n",
    "    except NoSuchElementException:\n",
    "        Lift.append('No')\n",
    "        \n",
    "    try:\n",
    "        room_type = driver.find_element(By.XPATH,'//div[@class=\"ed14448b9f b817090550 e7f103ee9e\"]/div/a/span')\n",
    "        Room_type.append(room_type.text)\n",
    "    except NoSuchElementException:\n",
    "        Room_type.append(None)\n",
    "        \n",
    "    try:\n",
    "        bed1 = driver.find_element(By.XPATH,'//span[@class=\"baf7cb1417\"][contains(text(), \"double bed\")]')\n",
    "        Double_bed.append('Yes')\n",
    "    except NoSuchElementException:\n",
    "        Double_bed.append('No')\n",
    "        \n",
    "    try:\n",
    "        bed2 = driver.find_element(By.XPATH,'//span[@class=\"baf7cb1417\"][contains(text(), \"single bed\")]')\n",
    "        Single_bed.append('Yes')\n",
    "    except NoSuchElementException:\n",
    "        Single_bed.append('No')\n",
    "        "
   ]
  },
  {
   "cell_type": "code",
   "execution_count": 20,
   "metadata": {},
   "outputs": [
    {
     "name": "stdout",
     "output_type": "stream",
     "text": [
      "675 675 675 675 675 675 675 675 675 675 675 675 675 675 675 675 675\n"
     ]
    }
   ],
   "source": [
    "print(len(Hotel_name), len(Location), len(City), len(Reviews), len(User_rating), len(Star_rating), len(Review_score), len(Bar),\n",
    "     len(Restaurent), len(Heating), len(Lift), len(Room_type), len(Single_bed), len(Double_bed), len(Free_wifi),\n",
    "      len(Family_rooms), len(NonSmoking_rooms))"
   ]
  },
  {
   "cell_type": "code",
   "execution_count": null,
   "metadata": {},
   "outputs": [],
   "source": []
  }
 ],
 "metadata": {
  "kernelspec": {
   "display_name": "Python 3",
   "language": "python",
   "name": "python3"
  },
  "language_info": {
   "codemirror_mode": {
    "name": "ipython",
    "version": 3
   },
   "file_extension": ".py",
   "mimetype": "text/x-python",
   "name": "python",
   "nbconvert_exporter": "python",
   "pygments_lexer": "ipython3",
   "version": "3.7.3"
  }
 },
 "nbformat": 4,
 "nbformat_minor": 4
}
