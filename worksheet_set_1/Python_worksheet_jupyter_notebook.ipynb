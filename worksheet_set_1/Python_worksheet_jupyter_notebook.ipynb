{
 "cells": [
  {
   "cell_type": "markdown",
   "metadata": {},
   "source": [
    "### Question 11"
   ]
  },
  {
   "cell_type": "code",
   "execution_count": null,
   "metadata": {},
   "outputs": [],
   "source": [
    "num = int(input(\"Enter a number:\"))\n",
    "factorial = 1\n",
    "\n",
    "# checking if the number is negative or zero\n",
    "if num < 0:\n",
    "    print(\"Factorial cannot be calculated for a negative number.\")\n",
    "elif num == 0:\n",
    "    print(\"Factorial of 0 is 1\")\n",
    "    \n",
    "#calculating factorial of the number\n",
    "else:\n",
    "    input_num = num\n",
    "    while num > 0:\n",
    "        factorial = factorial*num\n",
    "        num -=1\n",
    "        \n",
    "    print(\"Factorial of\",input_num,\"is\",factorial)"
   ]
  },
  {
   "cell_type": "markdown",
   "metadata": {},
   "source": [
    "### Question 12"
   ]
  },
  {
   "cell_type": "code",
   "execution_count": null,
   "metadata": {},
   "outputs": [],
   "source": [
    "num = int(input(\"Enter a positive number: \"))\n",
    "\n",
    "# checking if the number is 1\n",
    "if num == 1:\n",
    "    print(\"1 is neither prime nor composite\")\n",
    "# checking for factors\n",
    "for i in range(2,num):\n",
    "    if num%i == 0:\n",
    "        print(num, \"is composite.\")\n",
    "        break\n",
    "        \n",
    "# if no factors\n",
    "else:\n",
    "    print(num, \"is prime.\")\n",
    "    "
   ]
  },
  {
   "cell_type": "markdown",
   "metadata": {},
   "source": [
    "### Question 13"
   ]
  },
  {
   "cell_type": "code",
   "execution_count": null,
   "metadata": {},
   "outputs": [],
   "source": [
    "var = str(input(\"Enter a string: \"))\n",
    "\n",
    "# converting to lowercase and removing spaces\n",
    "var = var.lower().replace(\" \",\"\")\n",
    "\n",
    "# reversing the string\n",
    "reverse_var = var[::-1]\n",
    "\n",
    "#checking if the string and its reverse is same\n",
    "if var == reverse_var:\n",
    "    print(\"The string \\\"\",var,\"\\\" is a palindrome.\")\n",
    "else:\n",
    "    print(\"the string \\\"\", var,\"\\\" is not a palindrome.\")"
   ]
  },
  {
   "cell_type": "markdown",
   "metadata": {},
   "source": [
    "### Question 14"
   ]
  },
  {
   "cell_type": "code",
   "execution_count": null,
   "metadata": {},
   "outputs": [],
   "source": [
    "import math\n",
    "\n",
    "side_1 = float(input(\"Enter the length of side_1: \"))\n",
    "side_2 = float(input(\"Enter the length of side_2: \" ))\n",
    "\n",
    "hypotenuse = math.sqrt(side_1**2 + side_2**2)\n",
    "\n",
    "print(\"The length of third side is\",hypotenuse)"
   ]
  },
  {
   "cell_type": "markdown",
   "metadata": {},
   "source": [
    "### Question 15"
   ]
  },
  {
   "cell_type": "code",
   "execution_count": null,
   "metadata": {},
   "outputs": [],
   "source": [
    "input_string = str(input(\"Enter a string: \"))\n",
    "\n",
    "#creating an empty dictionary to store the frequencies\n",
    "char_freq = {}\n",
    "\n",
    "#finding each character and its frequency\n",
    "for char in input_string:\n",
    "    if char in char_freq:\n",
    "        char_freq[char]+=1\n",
    "    else:\n",
    "        char_freq[char]=1\n",
    "        \n",
    "#printing the frequency\n",
    "print(\"Character Frequencies: \")\n",
    "for char, freq in char_freq.items():\n",
    "    print(char, \":\", freq)"
   ]
  },
  {
   "cell_type": "code",
   "execution_count": null,
   "metadata": {},
   "outputs": [],
   "source": []
  }
 ],
 "metadata": {
  "kernelspec": {
   "display_name": "Python 3",
   "language": "python",
   "name": "python3"
  },
  "language_info": {
   "codemirror_mode": {
    "name": "ipython",
    "version": 3
   },
   "file_extension": ".py",
   "mimetype": "text/x-python",
   "name": "python",
   "nbconvert_exporter": "python",
   "pygments_lexer": "ipython3",
   "version": "3.7.3"
  }
 },
 "nbformat": 4,
 "nbformat_minor": 4
}
